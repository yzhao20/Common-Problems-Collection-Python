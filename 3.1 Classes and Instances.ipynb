{
 "cells": [
  {
   "cell_type": "markdown",
   "metadata": {},
   "source": [
    "#### 1. Classes"
   ]
  },
  {
   "cell_type": "code",
   "execution_count": 17,
   "metadata": {},
   "outputs": [],
   "source": [
    "class Employee:\n",
    "    \"\"\"\n",
    "    Every class normally has two components: Attributes and methods. Either or both can be missing, which is uncommon.\n",
    "    \n",
    "    \"\"\"\n",
    "    def __init__(self, first, last, pay): # Define the attributes for instances, no email attribute here, no return statement.\n",
    "        self.first = first  # Define one attribute and self is one instance by convention, which is automatically included.\n",
    "        self.last = last\n",
    "        self.email = first + '.' + last + '@company.com'  # This email attribute can derived from first and last\n",
    "        self.pay = pay\n",
    "    def fullname(self):   # Define one method called fullname\n",
    "        return f\"{self.first} {self.last}\""
   ]
  },
  {
   "cell_type": "markdown",
   "metadata": {},
   "source": [
    "#### 2. Instances"
   ]
  },
  {
   "cell_type": "code",
   "execution_count": 18,
   "metadata": {},
   "outputs": [
    {
     "name": "stdout",
     "output_type": "stream",
     "text": [
      "<__main__.Employee object at 0x7fc0f005f0d0>\n",
      "<__main__.Employee object at 0x7fc0f072d290>\n",
      "<__main__.Employee object at 0x7fc0efee3990>\n",
      "<__main__.Employee object at 0x7fc0f072d150>\n",
      "Y.Z@company.com\n",
      "R.Z@company.com\n",
      "M.Z@company.com\n",
      "X.Z@company.com\n"
     ]
    }
   ],
   "source": [
    "emp1 = Employee('Y', 'Z', 100000)   # Define one instance with 4 positional arguments, self is automatically included\n",
    "emp2 = Employee('R', 'Z', 200000)\n",
    "emp3 = Employee('M', 'Z', 300000)\n",
    "emp4 = Employee('X', 'Z', 400000)\n",
    "print(emp1)   # Just print out the memory location\n",
    "print(emp2)\n",
    "print(emp3)\n",
    "print(emp4)\n",
    "print(emp1.email)   # Print out the instance's email attribute\n",
    "print(emp2.email)\n",
    "print(emp3.email)\n",
    "print(emp4.email)"
   ]
  },
  {
   "cell_type": "code",
   "execution_count": 19,
   "metadata": {},
   "outputs": [
    {
     "name": "stdout",
     "output_type": "stream",
     "text": [
      "Y Z\n",
      "Y Z\n",
      "R Z\n",
      "R Z\n",
      "M Z\n",
      "M Z\n"
     ]
    }
   ],
   "source": [
    "print(emp1.fullname())   # Instance.method(), no additional argument as the instance is specified already\n",
    "print(Employee.fullname(emp1))  # Class.method(instance), the argument is needed as we need to specify which instance.\n",
    "\n",
    "print(emp2.fullname())\n",
    "print(Employee.fullname(emp2))\n",
    "\n",
    "print(emp3.fullname())\n",
    "print(Employee.fullname(emp3))"
   ]
  }
 ],
 "metadata": {
  "kernelspec": {
   "display_name": "Python 3",
   "language": "python",
   "name": "python3"
  },
  "language_info": {
   "codemirror_mode": {
    "name": "ipython",
    "version": 3
   },
   "file_extension": ".py",
   "mimetype": "text/x-python",
   "name": "python",
   "nbconvert_exporter": "python",
   "pygments_lexer": "ipython3",
   "version": "3.7.6"
  }
 },
 "nbformat": 4,
 "nbformat_minor": 4
}
