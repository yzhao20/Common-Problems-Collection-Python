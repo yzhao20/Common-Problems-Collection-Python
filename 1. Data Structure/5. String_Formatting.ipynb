{
 "cells": [
  {
   "cell_type": "markdown",
   "metadata": {},
   "source": [
    "#### String Formatting - Advanced Operations for Dicts, Lists, Numbers, and Dates\n",
    "\n",
    "1. It compares a number of different ways using string format.\n",
    "2. For each example, just check if they produce the same result.\n",
    "2. The latter normally gives a better solution."
   ]
  },
  {
   "cell_type": "markdown",
   "metadata": {},
   "source": [
    "#### Example 1 (The followings are about Dictionary)"
   ]
  },
  {
   "cell_type": "code",
   "execution_count": 66,
   "metadata": {
    "scrolled": true
   },
   "outputs": [
    {
     "name": "stdout",
     "output_type": "stream",
     "text": [
      "My name is Yun and I am 35 years old.\n"
     ]
    }
   ],
   "source": [
    "person = {\"name\": \"Yun\", \"age\": 35}   # Define our person dictionary\n",
    "sentence1 = \"My name is \" + person['name'] + \" and I am \" + str(person['age']) + \" years old.\" #String addition, bad.\n",
    "print(sentence1)"
   ]
  },
  {
   "cell_type": "markdown",
   "metadata": {},
   "source": [
    "#### Example 2"
   ]
  },
  {
   "cell_type": "code",
   "execution_count": 67,
   "metadata": {},
   "outputs": [
    {
     "name": "stdout",
     "output_type": "stream",
     "text": [
      "True\n"
     ]
    }
   ],
   "source": [
    "sentence2 = \"My name is {} and I am {} years old.\".format(person['name'], person['age'])  # Traditional String format.\n",
    "print(sentence2 == sentence1)"
   ]
  },
  {
   "cell_type": "markdown",
   "metadata": {},
   "source": [
    "#### Example 3"
   ]
  },
  {
   "cell_type": "code",
   "execution_count": 68,
   "metadata": {},
   "outputs": [
    {
     "name": "stdout",
     "output_type": "stream",
     "text": [
      "True\n"
     ]
    }
   ],
   "source": [
    "sentence3 = \"My name is {0} and I am {1} years old.\".format(person['name'], person['age']) # Using place holders.\n",
    "print(sentence3 == sentence1)"
   ]
  },
  {
   "cell_type": "markdown",
   "metadata": {},
   "source": [
    "#### Example 4"
   ]
  },
  {
   "cell_type": "code",
   "execution_count": 69,
   "metadata": {},
   "outputs": [
    {
     "name": "stdout",
     "output_type": "stream",
     "text": [
      "True\n"
     ]
    }
   ],
   "source": [
    "name = \"Yun\"\n",
    "age = 35\n",
    "sentence4 = \"My name is {0} and I am {1} years old.\".format(name, age)  # Use some variables.\n",
    "print(sentence4 == sentence1)"
   ]
  },
  {
   "cell_type": "markdown",
   "metadata": {},
   "source": [
    "#### Example 5"
   ]
  },
  {
   "cell_type": "code",
   "execution_count": 70,
   "metadata": {},
   "outputs": [
    {
     "name": "stdout",
     "output_type": "stream",
     "text": [
      "False\n"
     ]
    }
   ],
   "source": [
    "sentence5 = \"My name is {0[name]} and I am {1[age]} years old.\".format(person, person) # Using 0[name] pattern.\n",
    "print(sentence5 == sentence)"
   ]
  },
  {
   "cell_type": "markdown",
   "metadata": {},
   "source": [
    "#### Example 6"
   ]
  },
  {
   "cell_type": "code",
   "execution_count": 71,
   "metadata": {},
   "outputs": [
    {
     "name": "stdout",
     "output_type": "stream",
     "text": [
      "True\n"
     ]
    }
   ],
   "source": [
    "sentence6 = \"My name is {0[name]} and I am {0[age]} years old.\".format(person) # No duplicate person dictionaries.\n",
    "print(sentence6 == sentence1)"
   ]
  },
  {
   "cell_type": "markdown",
   "metadata": {},
   "source": [
    "#### Example 7 (This one is about list)"
   ]
  },
  {
   "cell_type": "code",
   "execution_count": 72,
   "metadata": {},
   "outputs": [
    {
     "name": "stdout",
     "output_type": "stream",
     "text": [
      "True\n"
     ]
    }
   ],
   "source": [
    "lis = [\"Yun\", 35]\n",
    "sentence7 = \"My name is {0[0]} and I am {0[1]} years old.\".format(lis)   # Still applies for list using list index.\n",
    "print(sentence7 == sentence1)"
   ]
  },
  {
   "cell_type": "markdown",
   "metadata": {},
   "source": [
    "#### Example 8"
   ]
  },
  {
   "cell_type": "code",
   "execution_count": 73,
   "metadata": {},
   "outputs": [
    {
     "name": "stdout",
     "output_type": "stream",
     "text": [
      "True\n"
     ]
    }
   ],
   "source": [
    "class person():\n",
    "    def __init__(self, name, age):\n",
    "        self.name = name\n",
    "        self.age = age\n",
    "\n",
    "p1 = person(\"Yun\", 35)\n",
    "sentence8 = \"My name is {0.name} and I am {0.age} years old.\".format(p1)  # 0 is index, \n",
    "                                                                        # both .name and .age are attributes.\n",
    "print(sentence8 == sentence1)"
   ]
  },
  {
   "cell_type": "markdown",
   "metadata": {},
   "source": [
    "#### Example 9"
   ]
  },
  {
   "cell_type": "code",
   "execution_count": 74,
   "metadata": {},
   "outputs": [
    {
     "name": "stdout",
     "output_type": "stream",
     "text": [
      "True\n"
     ]
    }
   ],
   "source": [
    "sentence9 = \"My name is {name} and I am {age} years old.\".format(name=\"Yun\", age=35) # Place Key word in place holders\n",
    "print(sentence9 == sentence1)"
   ]
  },
  {
   "cell_type": "markdown",
   "metadata": {},
   "source": [
    "#### Example 10 (The following is about Numbers)\n"
   ]
  },
  {
   "cell_type": "code",
   "execution_count": 75,
   "metadata": {},
   "outputs": [
    {
     "name": "stdout",
     "output_type": "stream",
     "text": [
      "The value is 01\n",
      "The value is 02\n",
      "The value is 03\n",
      "The value is 04\n",
      "The value is 05\n",
      "The value is 06\n",
      "The value is 07\n",
      "The value is 08\n",
      "The value is 09\n",
      "The value is 10\n"
     ]
    }
   ],
   "source": [
    "for i in range(1, 11):   # range(1, 11) means starting from 1, and ends at 10.\n",
    "    sentence10 = \"The value is {:02}\".format(i)   # A colon(:) is added, 02 means two digits.\n",
    "    print(sentence10)"
   ]
  },
  {
   "cell_type": "markdown",
   "metadata": {},
   "source": [
    "#### Example 11"
   ]
  },
  {
   "cell_type": "code",
   "execution_count": 76,
   "metadata": {},
   "outputs": [
    {
     "name": "stdout",
     "output_type": "stream",
     "text": [
      "Pi is equal to 3.14\n"
     ]
    }
   ],
   "source": [
    "pi = 3.14159265\n",
    "sentence11 = \"Pi is equal to {:.2f}\".format(pi) #.2f represents 2 decimal digits.\n",
    "print(sentence11)"
   ]
  },
  {
   "cell_type": "markdown",
   "metadata": {},
   "source": [
    "#### Example 12"
   ]
  },
  {
   "cell_type": "code",
   "execution_count": 77,
   "metadata": {},
   "outputs": [
    {
     "name": "stdout",
     "output_type": "stream",
     "text": [
      "1M is equal to 1,000,000.00\n"
     ]
    }
   ],
   "source": [
    "sentence12 = \"1M is equal to {:,.2f}\".format(1000 ** 2)  # Both the comma and .2f are used this case.\n",
    "print(sentence12)"
   ]
  },
  {
   "cell_type": "markdown",
   "metadata": {},
   "source": [
    "#### Example 13 (The followings are about Dates)"
   ]
  },
  {
   "cell_type": "code",
   "execution_count": 78,
   "metadata": {},
   "outputs": [
    {
     "name": "stdout",
     "output_type": "stream",
     "text": [
      "2020-10-23 18:30:29\n"
     ]
    }
   ],
   "source": [
    "import datetime\n",
    "my_date = datetime.datetime(2020, 10, 23, 18, 30, 29)   # Using the datetime modules's datetime function.\n",
    "print(my_date)"
   ]
  },
  {
   "cell_type": "code",
   "execution_count": 79,
   "metadata": {},
   "outputs": [
    {
     "name": "stdout",
     "output_type": "stream",
     "text": [
      "October 23, 2020\n"
     ]
    }
   ],
   "source": [
    "sentence13 = \"{:%B %d, %Y}\".format(my_date)    #The string format method applis for datetime, lookup the format options\n",
    "print(sentence13)"
   ]
  },
  {
   "cell_type": "code",
   "execution_count": 80,
   "metadata": {},
   "outputs": [
    {
     "name": "stdout",
     "output_type": "stream",
     "text": [
      "October 23, 2020 fell on a Friday and was the 297 day of the year.\n"
     ]
    }
   ],
   "source": [
    "sentence13 = \"{0:%B %d, %Y} fell on a {0:%A} and was the {0:%j} day of the year.\".format(my_date) #Index 0 is required.\n",
    "print(sentence13)"
   ]
  }
 ],
 "metadata": {
  "kernelspec": {
   "display_name": "Python 3",
   "language": "python",
   "name": "python3"
  },
  "language_info": {
   "codemirror_mode": {
    "name": "ipython",
    "version": 3
   },
   "file_extension": ".py",
   "mimetype": "text/x-python",
   "name": "python",
   "nbconvert_exporter": "python",
   "pygments_lexer": "ipython3",
   "version": "3.7.6"
  }
 },
 "nbformat": 4,
 "nbformat_minor": 4
}
