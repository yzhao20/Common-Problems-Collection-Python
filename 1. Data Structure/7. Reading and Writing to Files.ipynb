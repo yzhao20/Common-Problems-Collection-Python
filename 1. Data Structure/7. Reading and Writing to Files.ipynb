{
 "cells": [
  {
   "cell_type": "markdown",
   "metadata": {},
   "source": [
    "#### 1. Reading and Writing Text Files"
   ]
  },
  {
   "cell_type": "markdown",
   "metadata": {},
   "source": [
    "#### Use the open keyword"
   ]
  },
  {
   "cell_type": "code",
   "execution_count": 16,
   "metadata": {},
   "outputs": [
    {
     "name": "stdout",
     "output_type": "stream",
     "text": [
      "Test.txt\n",
      "r\n",
      "Test.txt\n",
      "a\n"
     ]
    }
   ],
   "source": [
    "f = open(\"Test.txt\", 'r')   # The default mode is read. \n",
    "print(f.name)\n",
    "print(f.mode)\n",
    "f.close()             # Close the file that we open is required\n",
    "wf = open(\"Test.txt\", 'a')   # Open the file with append mode.\n",
    "print(wf.name)\n",
    "print(wf.mode)\n",
    "wf.close()         # Close the file that we open is required"
   ]
  },
  {
   "cell_type": "markdown",
   "metadata": {},
   "source": [
    "#### Content Manager"
   ]
  },
  {
   "cell_type": "code",
   "execution_count": 13,
   "metadata": {},
   "outputs": [
    {
     "name": "stdout",
     "output_type": "stream",
     "text": [
      "False\n",
      "True\n"
     ]
    }
   ],
   "source": [
    "with open('Test.txt', 'r') as f:     # f is the varialbe, and it automatically close the file.\n",
    "    print(f.closed)\n",
    "print(f.closed)  # After the block the file is automatically closed."
   ]
  },
  {
   "cell_type": "code",
   "execution_count": 17,
   "metadata": {},
   "outputs": [
    {
     "name": "stdout",
     "output_type": "stream",
     "text": [
      "1st line.\n",
      "2nd line.\n",
      "3rd line.\n",
      "4th line.\n",
      "5th line.\n",
      "6th line.\n",
      "7th line.\n",
      "8th line.\n",
      "9th line.\n",
      "10th line.\n",
      "11st line.\n"
     ]
    }
   ],
   "source": [
    "with open('Test.txt', 'r') as f:\n",
    "    f_contents = f.read()      # Read method returns everything\n",
    "    print(f_contents)"
   ]
  },
  {
   "cell_type": "code",
   "execution_count": 19,
   "metadata": {},
   "outputs": [
    {
     "name": "stdout",
     "output_type": "stream",
     "text": [
      "['1st line.\\n', '2nd line.\\n', '3rd line.\\n', '4th line.\\n', '5th line.\\n', '6th line.\\n', '7th line.\\n', '8th line.\\n', '9th line.\\n', '10th line.\\n', '11st line.'] 11\n"
     ]
    }
   ],
   "source": [
    "with open('Test.txt', 'r') as rf:\n",
    "    f_contents = rf.readlines()         # Readlines method returns a list of all lines.\n",
    "    print(f_contents, len(f_contents))"
   ]
  },
  {
   "cell_type": "code",
   "execution_count": 23,
   "metadata": {},
   "outputs": [
    {
     "name": "stdout",
     "output_type": "stream",
     "text": [
      "1st line.\n",
      "2nd line.\n"
     ]
    }
   ],
   "source": [
    "with open('Test.txt', 'r') as rf:\n",
    "    f_contents = rf.readline()\n",
    "    print(f_contents, end='')\n",
    "    f_contents = rf.readline()    # Readline method read the file from the position left last time.\n",
    "    print(f_contents, end='')"
   ]
  },
  {
   "cell_type": "code",
   "execution_count": 26,
   "metadata": {},
   "outputs": [
    {
     "name": "stdout",
     "output_type": "stream",
     "text": [
      "1st line.\n",
      "2nd line.\n",
      "3rd line.\n",
      "4th line.\n",
      "5th line.\n",
      "6th line.\n",
      "7th line.\n",
      "8th line.\n",
      "9th line.\n",
      "10th line.\n",
      "11st line."
     ]
    }
   ],
   "source": [
    "with open('Test.txt', 'r') as rf:\n",
    "    for line in rf:                  # For loop to iterate all lines in a file.\n",
    "        print(line, end='')"
   ]
  },
  {
   "cell_type": "code",
   "execution_count": 34,
   "metadata": {},
   "outputs": [
    {
     "name": "stdout",
     "output_type": "stream",
     "text": [
      "1st line.\n",
      "2nd line.\n",
      "*3rd line.\n",
      "4th line.\n",
      "*5th line.\n",
      "6th line.\n",
      "*"
     ]
    }
   ],
   "source": [
    "with open('Test.txt', 'r') as rf:\n",
    "    f_contents = rf.read(20)          # The 20 is the argument that controls the length of each read.\n",
    "    print(f_contents, end='*')\n",
    "    f_contents = rf.read(20)          # It reads from the position left over last time.\n",
    "    print(f_contents, end='*')\n",
    "    f_contents = rf.read(20)\n",
    "    print(f_contents, end='*')"
   ]
  },
  {
   "cell_type": "code",
   "execution_count": 41,
   "metadata": {},
   "outputs": [
    {
     "name": "stdout",
     "output_type": "stream",
     "text": [
      "1st line.\n",
      "2nd l*ine.\n",
      "3rd line.\n",
      "*4th line.\n",
      "5th l*ine.\n",
      "6th line.\n",
      "*7th line.\n",
      "8th l*ine.\n",
      "9th line.\n",
      "*10th line.\n",
      "11st* line.*"
     ]
    }
   ],
   "source": [
    "with open('Test.txt', 'r') as rf:\n",
    "    size = 15                        # The above argument is hardcoded. We can use this technique to address the issue\n",
    "    f_contents = rf.read(size)\n",
    "    while len(f_contents) > 0:   # If it reaches the end, the length would be 0.\n",
    "        print(f_contents, end='*')\n",
    "        f_contents = rf.read(size)"
   ]
  },
  {
   "cell_type": "code",
   "execution_count": 43,
   "metadata": {},
   "outputs": [
    {
     "name": "stdout",
     "output_type": "stream",
     "text": [
      "15\n"
     ]
    }
   ],
   "source": [
    "with open('Test.txt', 'r') as rf:\n",
    "    size = 15                        \n",
    "    f_contents = rf.read(size)\n",
    "    print(rf.tell())             # The tell methond returns the current read position."
   ]
  },
  {
   "cell_type": "code",
   "execution_count": 48,
   "metadata": {},
   "outputs": [
    {
     "name": "stdout",
     "output_type": "stream",
     "text": [
      "1st line.\n",
      "2nd l*1st line.\n",
      "2nd l*"
     ]
    }
   ],
   "source": [
    "with open('Test.txt', 'r') as rf:\n",
    "    size = 15                        \n",
    "    f_contents = rf.read(size)\n",
    "    print(f_contents, end='*')\n",
    "    rf.seek(0)                     # The seek method moves to any position we want.\n",
    "    f_contents = rf.read(size)\n",
    "    print(f_contents, end='*')"
   ]
  },
  {
   "cell_type": "markdown",
   "metadata": {},
   "source": [
    "#### Write a Text File"
   ]
  },
  {
   "cell_type": "code",
   "execution_count": 49,
   "metadata": {},
   "outputs": [],
   "source": [
    "with open('Test.txt', 'w') as f:\n",
    "    f.write(\"Write something here.\")   # Pay MORE attention the 'Test.txt' is overwritten if exist!"
   ]
  },
  {
   "cell_type": "code",
   "execution_count": 53,
   "metadata": {},
   "outputs": [],
   "source": [
    "with open('Test2.txt', 'w') as f:       # Write mode would Create a NEW file if it is not exist.\n",
    "    f.write(\"I am going to make a copy.\") \n",
    "    f.seek(0)\n",
    "    f.write(\"Write.\")  # It only overwrite part of the original as it moves to position 0."
   ]
  },
  {
   "cell_type": "code",
   "execution_count": 54,
   "metadata": {},
   "outputs": [],
   "source": [
    "with open('Test.txt', 'r') as rf:\n",
    "    with open('Test_Copy.txt', 'w') as wf:    # Test_Copy is new file\n",
    "        for line in rf:      # This loop would copy everything in original file\n",
    "            wf.write(line)"
   ]
  },
  {
   "cell_type": "markdown",
   "metadata": {},
   "source": [
    "#### 2. Working with Picture File"
   ]
  },
  {
   "cell_type": "code",
   "execution_count": 56,
   "metadata": {},
   "outputs": [],
   "source": [
    "with open('Card.jpeg', 'rb') as rf:      # Add b in the mode to reflect binary read, error otherwise.\n",
    "    with open('Card_Copy.jpeg', 'wb') as wf:    \n",
    "        for line in rf:      \n",
    "            wf.write(line)"
   ]
  },
  {
   "cell_type": "code",
   "execution_count": 58,
   "metadata": {},
   "outputs": [],
   "source": [
    "with open('Card.jpeg', 'rb') as rf:      \n",
    "    with open('Card_Copy.jpeg', 'wb') as wf:    \n",
    "        size = 10                     # We can follow the same technique to create a new JPEG file.\n",
    "        rf_chunk = rf.read(size)\n",
    "        while len(rf_chunk) > 0:         \n",
    "            wf.write(rf_chunk)\n",
    "            rf_chunk = rf.read(size)"
   ]
  }
 ],
 "metadata": {
  "kernelspec": {
   "display_name": "Python 3",
   "language": "python",
   "name": "python3"
  },
  "language_info": {
   "codemirror_mode": {
    "name": "ipython",
    "version": 3
   },
   "file_extension": ".py",
   "mimetype": "text/x-python",
   "name": "python",
   "nbconvert_exporter": "python",
   "pygments_lexer": "ipython3",
   "version": "3.7.6"
  }
 },
 "nbformat": 4,
 "nbformat_minor": 4
}
