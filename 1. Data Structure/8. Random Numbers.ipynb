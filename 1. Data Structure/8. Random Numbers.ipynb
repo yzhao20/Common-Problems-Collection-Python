{
 "cells": [
  {
   "cell_type": "markdown",
   "metadata": {},
   "source": [
    "#### Random Modules and Its Application"
   ]
  },
  {
   "cell_type": "markdown",
   "metadata": {},
   "source": [
    "#### 1. List all methods of Random module"
   ]
  },
  {
   "cell_type": "code",
   "execution_count": 90,
   "metadata": {
    "scrolled": true
   },
   "outputs": [
    {
     "name": "stdout",
     "output_type": "stream",
     "text": [
      "BPF\tLOG4\tNV_MAGICCONST\tRECIP_BPF\tRandom\tSG_MAGICCONST\tSystemRandom\tTWOPI\t_BuiltinMethodType\t_MethodType\t_Sequence\t_Set\t__all__\t__builtins__\t__cached__\t__doc__\t__file__\t__loader__\t__name__\t__package__\t__spec__\t_acos\t_bisect\t_ceil\t_cos\t_e\t_exp\t_inst\t_itertools\t_log\t_os\t_pi\t_random\t_sha512\t_sin\t_sqrt\t_test\t_test_generator\t_urandom\t_warn\tbetavariate\tchoice\tchoices\texpovariate\tgammavariate\tgauss\tgetrandbits\tgetstate\tlognormvariate\tnormalvariate\tparetovariate\trandint\trandom\trandrange\tsample\tseed\tsetstate\tshuffle\ttriangular\tuniform\tvonmisesvariate\tweibullvariate\t"
     ]
    }
   ],
   "source": [
    "import random\n",
    "for i in dir(random):\n",
    "    print(i, end='\\t')"
   ]
  },
  {
   "cell_type": "markdown",
   "metadata": {},
   "source": [
    "#### 2. Random.random() returns a float between [0, 1)"
   ]
  },
  {
   "cell_type": "code",
   "execution_count": 91,
   "metadata": {},
   "outputs": [
    {
     "name": "stdout",
     "output_type": "stream",
     "text": [
      "0.35158864328004\t0.09369861293464865\t0.13644275439215836\t0.19339888838140595\t0.9885070389150248\t0.9672683594274801\t0.5739963157043595\t0.28271881110961616\t0.37058414214227287\t0.8297773263425704\t0.5263544810556224\t0.00416141406348125\t0.48539269296948995\t0.969220932685358\t0.3599519736218326\t0.9758769358319546\t0.9857269491474849\t0.5374314933041882\t0.31172706034301767\t0.7097636910700141\t"
     ]
    }
   ],
   "source": [
    "for i in range(20):\n",
    "    value = random.random()  # Random method returns a float between 0(inclusive) and 1(NOT inclusive)\n",
    "    print(value, end='\\t')"
   ]
  },
  {
   "cell_type": "markdown",
   "metadata": {},
   "source": [
    "#### 3. Random.uniform(a,b) returns a value between [a,b) or [a,b] depending on rounding."
   ]
  },
  {
   "cell_type": "code",
   "execution_count": 92,
   "metadata": {},
   "outputs": [
    {
     "name": "stdout",
     "output_type": "stream",
     "text": [
      "9.9\t4.9\t8.8\t3.6\t3.7\t8.7\t9.3\t8.1\t8.0\t7.8\t6.6\t9.5\t3.2\t4.4\t3.4\t2.3\t9.7\t1.6\t5.5\t1.4\t"
     ]
    }
   ],
   "source": [
    "for i in range(20):\n",
    "    value1 = round(random.uniform(1, 10), 1)  # Get a random number in the range [a,b) or [a,b] depending on rounding.\n",
    "    print(value1, end='\\t')"
   ]
  },
  {
   "cell_type": "markdown",
   "metadata": {},
   "source": [
    "#### 4. Random.randint(a,b) returns a whole number between [a,b]"
   ]
  },
  {
   "cell_type": "code",
   "execution_count": 93,
   "metadata": {},
   "outputs": [
    {
     "name": "stdout",
     "output_type": "stream",
     "text": [
      "4\t6\t1\t2\t2\t3\t1\t2\t6\t6\t5\t4\t2\t6\t3\t2\t4\t2\t5\t4\t"
     ]
    }
   ],
   "source": [
    "for i in range(20):\n",
    "    value2 = random.randint(1, 6)  # Get a random whole number [a, b] both inclusive\n",
    "    print(value2, end='\\t')"
   ]
  },
  {
   "cell_type": "markdown",
   "metadata": {},
   "source": [
    "#### 5. Random.choice() returns a value from a list."
   ]
  },
  {
   "cell_type": "code",
   "execution_count": 94,
   "metadata": {},
   "outputs": [
    {
     "name": "stdout",
     "output_type": "stream",
     "text": [
      "Hi Minjuan\n",
      "Hi Yinjuan\n",
      "Hi Yinjuan\n",
      "Hi Shuzhen\n",
      "Hi Puxiao\n",
      "Hi Shuzhen\n",
      "Hi Naomi\n",
      "Hi Yunfeng\n",
      "Hi Yinjuan\n",
      "Hi Shuzhen\n"
     ]
    }
   ],
   "source": [
    "greetings = ['Yunfeng', 'Naomi', 'Yoyo', 'Shuzhen', 'Puxiao', 'Yinjuan', 'Minjuan']\n",
    "for i in range(10):\n",
    "    print('Hi ' + random.choice(greetings))"
   ]
  },
  {
   "cell_type": "markdown",
   "metadata": {},
   "source": [
    "#### 6. Random.choices() returns k values with different weights."
   ]
  },
  {
   "cell_type": "code",
   "execution_count": 95,
   "metadata": {},
   "outputs": [
    {
     "name": "stdout",
     "output_type": "stream",
     "text": [
      "['green', 'red', 'red', 'green', 'green', 'red']\n",
      "Percentage of yellows: 97.94%\n"
     ]
    }
   ],
   "source": [
    "colors = ['red', 'green', 'yellow']\n",
    "result = random.choices(colors, k=6)   # Specify number of draws as value of k\n",
    "print(result)\n",
    "results = random.choices(colors, weights=[1, 1, 98], k=100000)   # Specify the weights of each element in drawing.\n",
    "print(\"Percentage of yellows: \" + str(100 *results.count('yellow')/len(results)) + '%')"
   ]
  },
  {
   "cell_type": "markdown",
   "metadata": {},
   "source": [
    "#### 7. Random.shuffle() return a shuffle of a list."
   ]
  },
  {
   "cell_type": "code",
   "execution_count": 96,
   "metadata": {},
   "outputs": [
    {
     "name": "stdout",
     "output_type": "stream",
     "text": [
      "[28, 36, 21, 11, 44, 25, 6, 49, 29, 1, 45, 10, 37, 35, 2, 18, 24, 26, 16, 42, 40, 7, 9, 33, 27, 12, 48, 19, 30, 43, 8, 47, 15, 52, 46, 4, 20, 13, 32, 14, 51, 34, 5, 41, 17, 50, 31, 3, 38, 23, 39, 22]\n"
     ]
    }
   ],
   "source": [
    "deck = list(range(1, 53))   # Create a deck of cards as a list\n",
    "random.shuffle(deck)    # Shuffle the deck\n",
    "print(deck)"
   ]
  },
  {
   "cell_type": "markdown",
   "metadata": {},
   "source": [
    "#### 8. Random.sample() returns a unique value sample."
   ]
  },
  {
   "cell_type": "code",
   "execution_count": 97,
   "metadata": {},
   "outputs": [
    {
     "name": "stdout",
     "output_type": "stream",
     "text": [
      "[37, 51, 21, 19, 27]\n",
      "[26, 36, 41, 6, 24]\n",
      "[17, 20, 25, 46, 13]\n",
      "[40, 15, 26, 22, 14]\n",
      "[37, 35, 1, 30, 52]\n"
     ]
    }
   ],
   "source": [
    "for i in range(5):\n",
    "    hand = random.sample(deck, k=5)  # This is different with choices method as it generates unique value list.\n",
    "    print(hand)"
   ]
  },
  {
   "cell_type": "markdown",
   "metadata": {},
   "source": [
    "#### 9. A pratical example: fake data as test dummy data"
   ]
  },
  {
   "cell_type": "code",
   "execution_count": 98,
   "metadata": {},
   "outputs": [
    {
     "name": "stdout",
     "output_type": "stream",
     "text": [
      "Yunfeng Zhao\n",
      "782 Main NY 3698\n",
      "yunfeng.zhao@yahoo.com\n",
      "\n",
      "Puxiao Zhang\n",
      "733 West SH 3343\n",
      "puxiao.zhang@yahoo.com\n",
      "\n",
      "Puxiao Zhao\n",
      "180 South SH 8116\n",
      "puxiao.zhao@yahoo.com\n",
      "\n",
      "Naomi Zhang\n",
      "131 South HK 6874\n",
      "naomi.zhang@yahoo.com\n",
      "\n",
      "Naomi Zhang\n",
      "446 East HK 8638\n",
      "naomi.zhang@yahoo.com\n",
      "\n",
      "Naomi Zhao\n",
      "455 North SH 6985\n",
      "naomi.zhao@yahoo.com\n",
      "\n",
      "Yoyo Zhao\n",
      "490 Main HK 4131\n",
      "yoyo.zhao@yahoo.com\n",
      "\n",
      "Yoyo Zhao\n",
      "708 North LA 7595\n",
      "yoyo.zhao@yahoo.com\n",
      "\n",
      "Puxiao Zhao\n",
      "302 South SF 4299\n",
      "puxiao.zhao@yahoo.com\n",
      "\n",
      "Naomi Zhao\n",
      "836 East SF 1691\n",
      "naomi.zhao@yahoo.com\n",
      "\n",
      "Puxiao Zhao\n",
      "996 South LA 7798\n",
      "puxiao.zhao@yahoo.com\n",
      "\n",
      "Puxiao Zhao\n",
      "901 North HK 8939\n",
      "puxiao.zhao@yahoo.com\n",
      "\n",
      "Yoyo Zhang\n",
      "407 Main NY 6964\n",
      "yoyo.zhang@yahoo.com\n",
      "\n",
      "Naomi Zhang\n",
      "436 South SH 5571\n",
      "naomi.zhang@yahoo.com\n",
      "\n",
      "Yoyo Zhang\n",
      "602 North HK 2427\n",
      "yoyo.zhang@yahoo.com\n",
      "\n",
      "Yoyo Zhao\n",
      "717 North SF 2010\n",
      "yoyo.zhao@yahoo.com\n",
      "\n",
      "Naomi Zhao\n",
      "709 Main LA 2775\n",
      "naomi.zhao@yahoo.com\n",
      "\n",
      "Yoyo Zhang\n",
      "578 North NY 5085\n",
      "yoyo.zhang@yahoo.com\n",
      "\n",
      "Puxiao Zhang\n",
      "207 East HK 8418\n",
      "puxiao.zhang@yahoo.com\n",
      "\n",
      "Yunfeng Zhang\n",
      "303 North HK 1604\n",
      "yunfeng.zhang@yahoo.com\n",
      "\n",
      "Yoyo Zhang\n",
      "448 West NY 3870\n",
      "yoyo.zhang@yahoo.com\n",
      "\n",
      "Naomi Zhang\n",
      "527 North NY 1355\n",
      "naomi.zhang@yahoo.com\n",
      "\n",
      "Yunfeng Zhang\n",
      "655 Main HK 8403\n",
      "yunfeng.zhang@yahoo.com\n",
      "\n",
      "Puxiao Zhao\n",
      "867 Main NY 8997\n",
      "puxiao.zhao@yahoo.com\n",
      "\n",
      "Naomi Zhao\n",
      "377 Main LA 2031\n",
      "naomi.zhao@yahoo.com\n",
      "\n",
      "Puxiao Zhang\n",
      "395 West NY 2106\n",
      "puxiao.zhang@yahoo.com\n",
      "\n",
      "Yunfeng Zhang\n",
      "163 West NY 7459\n",
      "yunfeng.zhang@yahoo.com\n",
      "\n",
      "Puxiao Zhang\n",
      "491 South HK 5811\n",
      "puxiao.zhang@yahoo.com\n",
      "\n",
      "Yoyo Zhao\n",
      "286 South LA 5851\n",
      "yoyo.zhao@yahoo.com\n",
      "\n",
      "Yoyo Zhang\n",
      "121 West HK 8307\n",
      "yoyo.zhang@yahoo.com\n",
      "\n",
      "Puxiao Zhao\n",
      "424 South LA 7191\n",
      "puxiao.zhao@yahoo.com\n",
      "\n",
      "Yunfeng Zhao\n",
      "823 West HK 4029\n",
      "yunfeng.zhao@yahoo.com\n",
      "\n",
      "Yunfeng Zhao\n",
      "768 Main NY 1369\n",
      "yunfeng.zhao@yahoo.com\n",
      "\n",
      "Yunfeng Zhao\n",
      "873 East LA 1251\n",
      "yunfeng.zhao@yahoo.com\n",
      "\n",
      "Puxiao Zhang\n",
      "484 East HK 7119\n",
      "puxiao.zhang@yahoo.com\n",
      "\n",
      "Yoyo Zhang\n",
      "571 West HK 4942\n",
      "yoyo.zhang@yahoo.com\n",
      "\n",
      "Yoyo Zhang\n",
      "936 Main SH 6944\n",
      "yoyo.zhang@yahoo.com\n",
      "\n",
      "Puxiao Zhao\n",
      "431 Main LA 8946\n",
      "puxiao.zhao@yahoo.com\n",
      "\n",
      "Puxiao Zhang\n",
      "349 Main LA 8959\n",
      "puxiao.zhang@yahoo.com\n",
      "\n",
      "Yoyo Zhao\n",
      "171 West NY 1101\n",
      "yoyo.zhao@yahoo.com\n",
      "\n",
      "Naomi Zhao\n",
      "978 East NY 2325\n",
      "naomi.zhao@yahoo.com\n",
      "\n",
      "Puxiao Zhang\n",
      "821 Main LA 3848\n",
      "puxiao.zhang@yahoo.com\n",
      "\n",
      "Puxiao Zhao\n",
      "890 Main LA 2773\n",
      "puxiao.zhao@yahoo.com\n",
      "\n",
      "Naomi Zhao\n",
      "455 West HK 4087\n",
      "naomi.zhao@yahoo.com\n",
      "\n",
      "Yoyo Zhang\n",
      "545 East SH 5987\n",
      "yoyo.zhang@yahoo.com\n",
      "\n",
      "Yoyo Zhao\n",
      "890 South SH 7922\n",
      "yoyo.zhao@yahoo.com\n",
      "\n",
      "Puxiao Zhang\n",
      "632 East HK 7135\n",
      "puxiao.zhang@yahoo.com\n",
      "\n",
      "Naomi Zhang\n",
      "862 East LA 1868\n",
      "naomi.zhang@yahoo.com\n",
      "\n",
      "Naomi Zhang\n",
      "926 East HK 7409\n",
      "naomi.zhang@yahoo.com\n",
      "\n",
      "Puxiao Zhao\n",
      "636 South SF 2247\n",
      "puxiao.zhao@yahoo.com\n",
      "\n",
      "Puxiao Zhao\n",
      "971 South LA 8695\n",
      "puxiao.zhao@yahoo.com\n",
      "\n",
      "Yunfeng Zhao\n",
      "294 East SH 1414\n",
      "yunfeng.zhao@yahoo.com\n",
      "\n",
      "Puxiao Zhao\n",
      "579 East SH 3896\n",
      "puxiao.zhao@yahoo.com\n",
      "\n",
      "Naomi Zhang\n",
      "610 Main HK 5938\n",
      "naomi.zhang@yahoo.com\n",
      "\n",
      "Puxiao Zhang\n",
      "604 East SF 4059\n",
      "puxiao.zhang@yahoo.com\n",
      "\n",
      "Yoyo Zhang\n",
      "792 South SH 4246\n",
      "yoyo.zhang@yahoo.com\n",
      "\n",
      "Yunfeng Zhao\n",
      "350 North HK 2266\n",
      "yunfeng.zhao@yahoo.com\n",
      "\n",
      "Yoyo Zhao\n",
      "305 West SH 5758\n",
      "yoyo.zhao@yahoo.com\n",
      "\n",
      "Yoyo Zhao\n",
      "834 West SH 5824\n",
      "yoyo.zhao@yahoo.com\n",
      "\n",
      "Yoyo Zhang\n",
      "663 East NY 7471\n",
      "yoyo.zhang@yahoo.com\n",
      "\n",
      "Puxiao Zhao\n",
      "913 West SH 5030\n",
      "puxiao.zhao@yahoo.com\n",
      "\n",
      "Yunfeng Zhang\n",
      "263 East LA 6423\n",
      "yunfeng.zhang@yahoo.com\n",
      "\n",
      "Yunfeng Zhang\n",
      "375 North SF 8172\n",
      "yunfeng.zhang@yahoo.com\n",
      "\n",
      "Naomi Zhao\n",
      "515 North SF 6597\n",
      "naomi.zhao@yahoo.com\n",
      "\n",
      "Yunfeng Zhang\n",
      "751 North SF 5641\n",
      "yunfeng.zhang@yahoo.com\n",
      "\n",
      "Yunfeng Zhang\n",
      "186 South NY 4485\n",
      "yunfeng.zhang@yahoo.com\n",
      "\n",
      "Naomi Zhang\n",
      "701 West SH 2613\n",
      "naomi.zhang@yahoo.com\n",
      "\n",
      "Puxiao Zhao\n",
      "970 West LA 1474\n",
      "puxiao.zhao@yahoo.com\n",
      "\n",
      "Yoyo Zhang\n",
      "705 North HK 8749\n",
      "yoyo.zhang@yahoo.com\n",
      "\n",
      "Yoyo Zhang\n",
      "540 North NY 7160\n",
      "yoyo.zhang@yahoo.com\n",
      "\n",
      "Yunfeng Zhao\n",
      "202 Main SH 4730\n",
      "yunfeng.zhao@yahoo.com\n",
      "\n",
      "Puxiao Zhang\n",
      "503 Main SH 5642\n",
      "puxiao.zhang@yahoo.com\n",
      "\n",
      "Naomi Zhao\n",
      "940 East SH 5007\n",
      "naomi.zhao@yahoo.com\n",
      "\n",
      "Naomi Zhao\n",
      "655 West SH 1404\n",
      "naomi.zhao@yahoo.com\n",
      "\n",
      "Yunfeng Zhang\n",
      "140 Main SH 2572\n",
      "yunfeng.zhang@yahoo.com\n",
      "\n",
      "Yunfeng Zhang\n",
      "314 West SH 3573\n",
      "yunfeng.zhang@yahoo.com\n",
      "\n",
      "Yunfeng Zhang\n",
      "702 North SF 6717\n",
      "yunfeng.zhang@yahoo.com\n",
      "\n",
      "Yunfeng Zhao\n",
      "295 South SH 3237\n",
      "yunfeng.zhao@yahoo.com\n",
      "\n",
      "Naomi Zhang\n",
      "741 South SF 3869\n",
      "naomi.zhang@yahoo.com\n",
      "\n",
      "Yunfeng Zhao\n",
      "955 Main SF 5609\n",
      "yunfeng.zhao@yahoo.com\n",
      "\n",
      "Puxiao Zhao\n",
      "492 North NY 8599\n",
      "puxiao.zhao@yahoo.com\n",
      "\n",
      "Naomi Zhang\n",
      "350 Main LA 1036\n",
      "naomi.zhang@yahoo.com\n",
      "\n",
      "Yoyo Zhao\n",
      "179 West LA 5126\n",
      "yoyo.zhao@yahoo.com\n",
      "\n",
      "Puxiao Zhao\n",
      "112 South SF 2521\n",
      "puxiao.zhao@yahoo.com\n",
      "\n",
      "Naomi Zhao\n",
      "593 Main SF 1845\n",
      "naomi.zhao@yahoo.com\n",
      "\n",
      "Yunfeng Zhao\n",
      "696 South SF 8982\n",
      "yunfeng.zhao@yahoo.com\n",
      "\n",
      "Yunfeng Zhang\n",
      "212 South HK 8077\n",
      "yunfeng.zhang@yahoo.com\n",
      "\n",
      "Puxiao Zhang\n",
      "628 South SH 5223\n",
      "puxiao.zhang@yahoo.com\n",
      "\n",
      "Puxiao Zhang\n",
      "467 Main HK 8615\n",
      "puxiao.zhang@yahoo.com\n",
      "\n",
      "Puxiao Zhao\n",
      "741 North NY 5158\n",
      "puxiao.zhao@yahoo.com\n",
      "\n",
      "Naomi Zhang\n",
      "920 South HK 6529\n",
      "naomi.zhang@yahoo.com\n",
      "\n",
      "Naomi Zhang\n",
      "494 Main SF 2529\n",
      "naomi.zhang@yahoo.com\n",
      "\n",
      "Yoyo Zhao\n",
      "281 Main HK 8132\n",
      "yoyo.zhao@yahoo.com\n",
      "\n",
      "Yunfeng Zhao\n",
      "229 North NY 6789\n",
      "yunfeng.zhao@yahoo.com\n",
      "\n",
      "Puxiao Zhao\n",
      "424 Main LA 6952\n",
      "puxiao.zhao@yahoo.com\n",
      "\n",
      "Yoyo Zhang\n",
      "942 Main SH 3594\n",
      "yoyo.zhang@yahoo.com\n",
      "\n",
      "Naomi Zhao\n",
      "646 Main NY 7844\n",
      "naomi.zhao@yahoo.com\n",
      "\n",
      "Yoyo Zhang\n",
      "190 West SF 6119\n",
      "yoyo.zhang@yahoo.com\n",
      "\n",
      "Yunfeng Zhao\n",
      "987 South HK 7717\n",
      "yunfeng.zhao@yahoo.com\n",
      "\n",
      "Puxiao Zhang\n",
      "451 North LA 8994\n",
      "puxiao.zhang@yahoo.com\n",
      "\n"
     ]
    }
   ],
   "source": [
    "first_names = ['Yunfeng', 'Naomi', 'Yoyo', 'Puxiao']\n",
    "last_names = ['Zhao', 'Zhang']\n",
    "street_names = ['Main', 'West', 'East', 'South', 'North']\n",
    "city_names = ['SH', 'HK', 'SF', 'NY', 'LA']\n",
    "\n",
    "for i in range(100):\n",
    "    first = random.choice(first_names)    # Get a random first name\n",
    "    last = random.choice(last_names)    \n",
    "    street_num = random.randint(100, 999)  \n",
    "    street = random.choice(street_names)\n",
    "    city = random.choice(city_names)\n",
    "    zip_code = random.randint(1000, 9000)\n",
    "    email = f'{first.lower()}.{last.lower()}@yahoo.com'   # Use lower method to strings.\n",
    "    print(f'{first} {last}\\n{street_num} {street} {city} {zip_code}\\n{email}\\n')"
   ]
  }
 ],
 "metadata": {
  "kernelspec": {
   "display_name": "Python 3",
   "language": "python",
   "name": "python3"
  },
  "language_info": {
   "codemirror_mode": {
    "name": "ipython",
    "version": 3
   },
   "file_extension": ".py",
   "mimetype": "text/x-python",
   "name": "python",
   "nbconvert_exporter": "python",
   "pygments_lexer": "ipython3",
   "version": "3.7.6"
  }
 },
 "nbformat": 4,
 "nbformat_minor": 4
}
